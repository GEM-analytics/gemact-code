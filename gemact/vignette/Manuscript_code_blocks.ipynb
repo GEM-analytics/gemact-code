{
 "cells": [
  {
   "cell_type": "markdown",
   "metadata": {},
   "source": [
    "# GEMAct: a Python package for non-life (re)insurance modeling\n",
    "\n",
    "This notebook contains the code blocks shown in the [manuscript](https://arxiv.org/abs/2303.01129) describing the usage and the design of the GEMAct package.\n",
    "This vignette is relative to the version 1.2.0 of the GEMAct software."
   ]
  },
  {
   "cell_type": "code",
   "execution_count": 1,
   "metadata": {},
   "outputs": [
    {
     "name": "stdout",
     "output_type": "stream",
     "text": [
      "Looking in indexes: https://test.pypi.org/simple/\n",
      "Collecting gemact==1.2.1\n",
      "  Using cached https://test-files.pythonhosted.org/packages/62/44/579ef6d82e85dc4408d8f4b79930de19ca7d008642a03b049a61d4cee878/gemact-1.2.1.tar.gz (70 kB)\n",
      "  Preparing metadata (setup.py): started\n",
      "  Preparing metadata (setup.py): finished with status 'done'\n",
      "Collecting twiggy (from gemact==1.2.1)\n",
      "  Downloading https://test-files.pythonhosted.org/packages/87/79/345024339dee3508119f96581532dc932286823ca9f0fbb41daa28956e0f/Twiggy-0.1.3-py3-none-any.whl (18 kB)\n",
      "Requirement already satisfied: numpy>=1.22.0 in c:\\users\\gpitt\\anaconda3\\envs\\aggregate_referee_report\\lib\\site-packages (from gemact==1.2.1) (1.26.0)\n",
      "Requirement already satisfied: matplotlib>=3.5.0 in c:\\users\\gpitt\\anaconda3\\envs\\aggregate_referee_report\\lib\\site-packages (from gemact==1.2.1) (3.8.0)\n",
      "Requirement already satisfied: scipy>=1.10.0 in c:\\users\\gpitt\\anaconda3\\envs\\aggregate_referee_report\\lib\\site-packages (from gemact==1.2.1) (1.11.2)\n",
      "Requirement already satisfied: setuptools>=65.5.1 in c:\\users\\gpitt\\anaconda3\\envs\\aggregate_referee_report\\lib\\site-packages (from gemact==1.2.1) (68.0.0)\n",
      "Requirement already satisfied: contourpy>=1.0.1 in c:\\users\\gpitt\\anaconda3\\envs\\aggregate_referee_report\\lib\\site-packages (from matplotlib>=3.5.0->gemact==1.2.1) (1.1.1)\n",
      "Requirement already satisfied: cycler>=0.10 in c:\\users\\gpitt\\anaconda3\\envs\\aggregate_referee_report\\lib\\site-packages (from matplotlib>=3.5.0->gemact==1.2.1) (0.11.0)\n",
      "Requirement already satisfied: fonttools>=4.22.0 in c:\\users\\gpitt\\anaconda3\\envs\\aggregate_referee_report\\lib\\site-packages (from matplotlib>=3.5.0->gemact==1.2.1) (4.42.1)\n",
      "Requirement already satisfied: kiwisolver>=1.0.1 in c:\\users\\gpitt\\anaconda3\\envs\\aggregate_referee_report\\lib\\site-packages (from matplotlib>=3.5.0->gemact==1.2.1) (1.4.5)\n",
      "Requirement already satisfied: packaging>=20.0 in c:\\users\\gpitt\\anaconda3\\envs\\aggregate_referee_report\\lib\\site-packages (from matplotlib>=3.5.0->gemact==1.2.1) (23.1)\n",
      "Requirement already satisfied: pillow>=6.2.0 in c:\\users\\gpitt\\anaconda3\\envs\\aggregate_referee_report\\lib\\site-packages (from matplotlib>=3.5.0->gemact==1.2.1) (10.0.1)\n",
      "Requirement already satisfied: pyparsing>=2.3.1 in c:\\users\\gpitt\\anaconda3\\envs\\aggregate_referee_report\\lib\\site-packages (from matplotlib>=3.5.0->gemact==1.2.1) (3.1.1)\n",
      "Requirement already satisfied: python-dateutil>=2.7 in c:\\users\\gpitt\\anaconda3\\envs\\aggregate_referee_report\\lib\\site-packages (from matplotlib>=3.5.0->gemact==1.2.1) (2.8.2)\n",
      "Requirement already satisfied: six in c:\\users\\gpitt\\anaconda3\\envs\\aggregate_referee_report\\lib\\site-packages (from twiggy->gemact==1.2.1) (1.16.0)\n",
      "Building wheels for collected packages: gemact\n",
      "  Building wheel for gemact (setup.py): started\n",
      "  Building wheel for gemact (setup.py): finished with status 'done'\n",
      "  Created wheel for gemact: filename=gemact-1.2.1-py3-none-any.whl size=75861 sha256=94ee798f1cbed1bd99dd333bab11d2f1992678bfb6de18db4e38338cac8df0d7\n",
      "  Stored in directory: c:\\users\\gpitt\\appdata\\local\\pip\\cache\\wheels\\ac\\68\\8c\\0254909bb666e531869644e31e4b423884a996c9e799198513\n",
      "Successfully built gemact\n",
      "Installing collected packages: twiggy, gemact\n",
      "Successfully installed gemact-1.2.1 twiggy-0.1.3\n",
      "Note: you may need to restart the kernel to use updated packages.\n"
     ]
    }
   ],
   "source": [
    "pip install -i https://test.pypi.org/simple/ gemact==1.2.1"
   ]
  },
  {
   "cell_type": "markdown",
   "metadata": {},
   "source": [
    "## 3.3 Severity discretisation"
   ]
  },
  {
   "cell_type": "code",
   "execution_count": 2,
   "metadata": {},
   "outputs": [
    {
     "name": "stdout",
     "output_type": "stream",
     "text": [
      "Mean of the discretised distribution: 5.000000000000088\n"
     ]
    },
    {
     "data": {
      "image/png": "[encoded data removed]",
      "text/plain": [
       "<Figure size 640x480 with 1 Axes>"
      ]
     },
     "metadata": {},
     "output_type": "display_data"
    }
   ],
   "source": [
    "from gemact.lossmodel import Severity\n",
    "severity = Severity(dist='gamma', par={'a': 5})\n",
    "\n",
    "massdispersal = severity.discretize(\n",
    "    discr_method='massdispersal',\n",
    "    n_discr_nodes=50000,\n",
    "    discr_step=.01,\n",
    "    deductible=0\n",
    "    )\n",
    "\n",
    "import numpy as np\n",
    "discrete_mean = np.sum(massdispersal['nodes'] * massdispersal['fj'])\n",
    "print('Mean of the discretised distribution:', discrete_mean)\n",
    "\n",
    "from gemact import distributions\n",
    "dist = distributions.Gamma(a=5)\n",
    "nodes = np.arange(0, 20)\n",
    "true_cdf = dist.cdf(nodes)\n",
    "\n",
    "import matplotlib.pyplot as plt\n",
    "severity.plot_discr_sev_cdf(\n",
    "    discr_method='massdispersal',\n",
    "    n_discr_nodes=20,\n",
    "    discr_step=1,\n",
    "    deductible=0,\n",
    "    color='#a71429'\n",
    "    )\n",
    "plt.plot(nodes, true_cdf, color='#4169E1', label='True cdf')\n",
    "plt.title('Method of Mass Dispersal')\n",
    "plt.xlabel('z')\n",
    "plt.show()"
   ]
  },
  {
   "cell_type": "markdown",
   "metadata": {},
   "source": [
    "## 3.4 Supported distributions"
   ]
  },
  {
   "cell_type": "code",
   "execution_count": 3,
   "metadata": {},
   "outputs": [
    {
     "name": "stdout",
     "output_type": "stream",
     "text": [
      "Simulated Mean:  2.3095\n",
      "Exact Mean:  2.3130352854993315\n",
      "Gumbel copula cdf:  0.2908208406483879\n"
     ]
    }
   ],
   "source": [
    "ztpois = distributions.ZTPoisson(mu=2)\n",
    "\n",
    "random_variates = ztpois.rvs(10**5, random_state=1)\n",
    "print('Simulated Mean: ', np.mean(random_variates))\n",
    "print('Exact Mean: ', ztpois.mean())\n",
    "\n",
    "from gemact import copulas\n",
    "gumbel_copula = copulas.GumbelCopula(par=1.2, dim=2)\n",
    "values = np.array([[.5, .5]])\n",
    "print('Gumbel copula cdf: ', gumbel_copula.cdf(values)[0])"
   ]
  },
  {
   "cell_type": "markdown",
   "metadata": {},
   "source": [
    "## 3.5 Illustration lossmodel"
   ]
  },
  {
   "cell_type": "code",
   "execution_count": 4,
   "metadata": {},
   "outputs": [
    {
     "name": "stderr",
     "output_type": "stream",
     "text": [
      "INFO:lossmodel|Approximating aggregate loss distribution via Monte Carlo simulation\n",
      "INFO:lossmodel|MC simulation completed\n",
      "INFO:lossmodel|Approximating aggregate loss distribution via FFT\n",
      "INFO:lossmodel|FFT completed\n",
      "INFO:lossmodel|Approximating aggregate loss distribution via FFT\n"
     ]
    },
    {
     "name": "stdout",
     "output_type": "stream",
     "text": [
      "           Aggregate Loss Distribution: layer 1\n",
      "           ======================================================\n",
      "                                      Quantity           Value\n",
      "           ======================================================\n",
      "                   Aggregate loss dist. method              mc\n",
      "                          Number of simulation          100000\n",
      "                                  Random state               1\n",
      "                                          Costing Summary: Layer 1\n",
      "           ==========================================================================\n",
      "                                                          Quantity           Value\n",
      "           ==========================================================================\n",
      "                                                             Cover            20.0\n",
      "                                                        Deductible             5.0\n",
      "                                                   Aggregate cover             inf\n",
      "                                              Aggregate deductible               0\n",
      "                   Pure premium (dist est.) before share partecip.            3.51\n",
      "                               Pure premium before share partecip.            3.51\n",
      "                                                   Share partecip.               1\n",
      "                                          Pure premium (dist est.)            3.51\n",
      "                                                      Pure premium            3.51\n",
      "Pure premium (RS):  4.319350355177017\n",
      "                  Policy Structure Summary: layer 2\n",
      "           ==================================================\n",
      "                            Specification           Value\n",
      "           ==================================================\n",
      "                               Deductible           100.0\n",
      "                                    Cover           200.0\n",
      "                     Aggregate deductible               0\n",
      "                     Reinstatements (no.)               2\n",
      "               Reinst. layer percentage 1             0.6\n",
      "               Reinst. layer percentage 2             0.6\n",
      "                      Share partecipation               1\n"
     ]
    },
    {
     "name": "stderr",
     "output_type": "stream",
     "text": [
      "INFO:lossmodel|FFT completed\n",
      "WARNING:lossmodel|Aggregate loss distribution calculation is omitted as aggr_loss_dist_method is missing\n",
      "WARNING:lossmodel|Layer 2: costing is omitted as aggr_loss_dist_method is missing\n",
      "WARNING:lossmodel|Layer 3: costing is omitted as aggr_loss_dist_method is missing\n",
      "INFO:lossmodel|Computation of layers started\n",
      "INFO:lossmodel|Computing layer: 1\n",
      "INFO:lossmodel|Approximating aggregate loss distribution via FFT\n",
      "INFO:lossmodel|FFT completed\n",
      "INFO:lossmodel|Computing layer: 2\n",
      "INFO:lossmodel|Approximating aggregate loss distribution via FFT\n",
      "INFO:lossmodel|FFT completed\n",
      "INFO:lossmodel|Computing layer: 3\n",
      "INFO:lossmodel|Approximating aggregate loss distribution via FFT\n",
      "INFO:lossmodel|FFT completed\n",
      "INFO:lossmodel|Computation of layers completed\n"
     ]
    },
    {
     "data": {
      "text/plain": [
       "16.88704720494848"
      ]
     },
     "execution_count": 4,
     "metadata": {},
     "output_type": "execute_result"
    }
   ],
   "source": [
    "from gemact.lossmodel import Frequency\n",
    "frequency = Frequency(\n",
    "    dist='poisson',\n",
    "    par={'mu': 4},\n",
    "    threshold=0\n",
    "    )\n",
    "\n",
    "from gemact.lossmodel import LossModel\n",
    "lm_mc = LossModel(\n",
    "    frequency=frequency,\n",
    "    severity=severity,\n",
    "    aggr_loss_dist_method='mc',\n",
    "    n_sim=10**5,\n",
    "    random_state=1\n",
    "    )\n",
    "\n",
    "lm_mc.print_aggr_loss_method_specs()\n",
    "\n",
    "lm_mc.mean(use_dist=True)\n",
    "lm_mc.mean(use_dist=False)\n",
    "lm_mc.coeff_variation(use_dist=True)\n",
    "lm_mc.coeff_variation(use_dist=False)\n",
    "lm_mc.skewness(use_dist=True)\n",
    "lm_mc.skewness(use_dist=False)\n",
    "\n",
    "lm_mc.moment(central=False, n=1)\n",
    "\n",
    "lm_mc.ppf(q=[0.80, 0.70])\n",
    "\n",
    "from gemact.lossmodel import PolicyStructure, Layer\n",
    "policystructure = PolicyStructure(\n",
    "    layers=Layer(\n",
    "    cover=20,\n",
    "    deductible=5\n",
    "    ))\n",
    "\n",
    "lm_XL = LossModel(\n",
    "    frequency=frequency,\n",
    "    severity=severity,\n",
    "    policystructure=policystructure,\n",
    "    aggr_loss_dist_method='fft',\n",
    "    sev_discr_method='massdispersal',\n",
    "    n_aggr_dist_nodes=2**17\n",
    "    )\n",
    "\n",
    "\n",
    "lm_XL.print_costing_specs()\n",
    "\n",
    "lm_XL.mean(use_dist=True)\n",
    "lm_XL.mean(use_dist=False)\n",
    "lm_XL.coeff_variation(use_dist=True)\n",
    "lm_XL.coeff_variation(use_dist=False)\n",
    "lm_XL.skewness(use_dist=True)\n",
    "lm_XL.skewness(use_dist=False)\n",
    "\n",
    "policystructure_RS = PolicyStructure(\n",
    "    layers=Layer(\n",
    "    cover=100,\n",
    "    deductible=0,\n",
    "    aggr_deductible=100,\n",
    "    reinst_percentage=1,\n",
    "    n_reinst=2\n",
    "    ))\n",
    "\n",
    "lm_RS = LossModel(\n",
    "    frequency=Frequency(\n",
    "    dist='poisson',\n",
    "    par={'mu': .5}\n",
    "    ),\n",
    "    severity=Severity(\n",
    "    dist='pareto2',\n",
    "    par={'scale': 100, 'shape': 1.2}\n",
    "    ),\n",
    "    policystructure = policystructure_RS,\n",
    "    aggr_loss_dist_method='fft',\n",
    "    sev_discr_method='massdispersal',\n",
    "    n_aggr_dist_nodes=2**17\n",
    "    )\n",
    "print('Pure premium (RS): ', lm_RS.pure_premium_dist[0])\n",
    "\n",
    "policystructure=PolicyStructure(\n",
    "    layers=[\n",
    "    Layer(cover=100, deductible=100, share=0.5),\n",
    "    Layer(cover=200, deductible=100, n_reinst=2, reinst_percentage=0.6),\n",
    "    Layer(cover=100, deductible=100, aggr_cover=200)\n",
    "    ])\n",
    "lossmodel_multiple = LossModel(\n",
    "    frequency=Frequency(\n",
    "    dist='poisson',\n",
    "    par={'mu': .5}\n",
    "    ),\n",
    "    severity=Severity(\n",
    "    dist='genpareto',\n",
    "    par={'loc': 0, 'scale': 83.34, 'c': 0.834}\n",
    "    ),\n",
    "    policystructure=policystructure\n",
    "    )\n",
    "\n",
    "lossmodel_multiple.pure_premium\n",
    "lossmodel_multiple.pure_premium_dist\n",
    "\n",
    "lossmodel_multiple.dist_calculate(\n",
    "    aggr_loss_dist_method='fft',\n",
    "    sev_discr_method='massdispersal',\n",
    "    n_aggr_dist_nodes=2**17\n",
    ")\n",
    "lossmodel_multiple.costing()\n",
    "lossmodel_multiple.pure_premium\n",
    "lossmodel_multiple.pure_premium_dist\n",
    "\n",
    "lossmodel_multiple.print_policy_layer_specs(idx=1)\n",
    "\n",
    "lossmodel_multiple.mean(idx=2)"
   ]
  },
  {
   "cell_type": "markdown",
   "metadata": {},
   "source": [
    "# 4.1 Illustration lossaggregation"
   ]
  },
  {
   "cell_type": "code",
   "execution_count": null,
   "metadata": {},
   "outputs": [],
   "source": [
    "from gemact import LossAggregation, Copula, Margins\n",
    "lossaggregation = LossAggregation(\n",
    "    margins=Margins(\n",
    "    dist=['genpareto', 'lognormal'],\n",
    "    par=[{'loc': 0, 'scale': 1/.9, 'c': 1/.9}, {'loc': 0, 'scale': 10, 'shape': 1.5}]\n",
    "    ),\n",
    "    copula=Copula(\n",
    "    dist='frank',\n",
    "    par={'par': 1.2, 'dim': 2}\n",
    "    ),\n",
    "    n_sim=500000,\n",
    "    random_state=10,\n",
    "    n_iter=8\n",
    "    )\n",
    "\n",
    "s = 300 # arbitrary value\n",
    "p_aep = lossaggregation.cdf(x=s, method='aep')\n",
    "print('P(X1+X2 <= s) = ', p_aep)\n",
    "p_mc = lossaggregation.cdf(x=s, method='mc')\n",
    "print('P(X1+X2 <= s) = ', p_mc)\n",
    "\n",
    "lossaggregation.ppf(q=p_aep, method='aep')\n",
    "lossaggregation.ppf(q=p_mc, method='mc')"
   ]
  },
  {
   "cell_type": "markdown",
   "metadata": {},
   "source": [
    "# 5.2 Illustration lossreserve"
   ]
  },
  {
   "cell_type": "code",
   "execution_count": null,
   "metadata": {},
   "outputs": [],
   "source": [
    "from gemact import gemdata\n",
    "ip = gemdata.incremental_payments_sim\n",
    "pnb = gemdata.payments_number_sim\n",
    "cp = gemdata.cased_payments_sim\n",
    "opn = gemdata.open_number_sim\n",
    "reported = gemdata.reported_claims_sim\n",
    "czj = gemdata.czj_sim\n",
    "from gemact import AggregateData\n",
    "from gemact import ReservingModel\n",
    "\n",
    "ad = AggregateData(\n",
    "    incremental_payments=ip,\n",
    "    cased_payments=cp,\n",
    "    open_claims_number=opn,\n",
    "    reported_claims=reported,\n",
    "    payments_number=pnb\n",
    "    )\n",
    "resmodel_crm = ReservingModel(\n",
    "    tail=False,\n",
    "    reserving_method='crm',\n",
    "    claims_inflation=np.array([1]),\n",
    "    mixing_fq_par=.01,\n",
    "    mixing_sev_par=.01,\n",
    "    czj=czj\n",
    "    )\n",
    "\n",
    "from gemact import LossReserve\n",
    "lr = LossReserve(\n",
    "    data=ad,\n",
    "    reservingmodel=resmodel_crm,\n",
    "    ntr_sim=1000,\n",
    "    random_state=42\n",
    "    )\n",
    "\n",
    "lr.reserve\n",
    "lr.ppf(q=np.array([.25, .5, .75, .995, .9995]))/10**6"
   ]
  },
  {
   "cell_type": "markdown",
   "metadata": {},
   "source": [
    "# Appendix B The AEP Algorithm"
   ]
  },
  {
   "cell_type": "code",
   "execution_count": null,
   "metadata": {},
   "outputs": [],
   "source": [
    "from gemact import Margins, Copula\n",
    "margins = Margins(\n",
    "    dist=['uniform', 'uniform'],\n",
    "    par=[{'a': 0, 'b': 1}, {'a': 0, 'b': 1}]\n",
    "    )\n",
    "copula = Copula(\n",
    "    dist='gaussian',\n",
    "    par={'corr': [[1, 0.7], [0.7, 1]]}\n",
    "    )\n",
    "la = LossAggregation(\n",
    "    copula=copula,\n",
    "    margins=margins\n",
    "    )\n",
    "la.cdf(x=1, n_iter=1, method='aep')\n",
    "\n",
    "la.cdf(x=1, n_iter=2, method='aep')"
   ]
  },
  {
   "cell_type": "markdown",
   "metadata": {},
   "source": [
    "# Appendix C Claims reserving with the Fisher-Lange"
   ]
  },
  {
   "cell_type": "code",
   "execution_count": null,
   "metadata": {},
   "outputs": [],
   "source": [
    "from gemact import gemdata\n",
    "ip = gemdata.incremental_payments_sim\n",
    "pnb = gemdata.payments_number_sim\n",
    "cp = gemdata.cased_payments_sim\n",
    "opn = gemdata.open_number_sim\n",
    "reported = gemdata.reported_claims_sim\n",
    "czj = gemdata.czj_sim\n",
    "claims_inflation = np.array([1])\n",
    "\n",
    "from gemact.lossreserve import AggregateData\n",
    "ad = AggregateData(\n",
    "    incremental_payments=ip,\n",
    "    cased_payments=cp,\n",
    "    open_claims_number=opn,\n",
    "    reported_claims=reported,\n",
    "    payments_number=pnb\n",
    "    )\n",
    "\n",
    "resmodel = ReservingModel(\n",
    "    tail=False,\n",
    "    reserving_method='fisher_lange',\n",
    "    claims_inflation=claims_inflation\n",
    "    )\n",
    "\n",
    "from gemact.lossreserve import LossReserve\n",
    "lossreserve = LossReserve(data=ad, reservingmodel=resmodel)"
   ]
  },
  {
   "cell_type": "markdown",
   "metadata": {},
   "source": [
    "## Corrigendum - Appendix C\n",
    "\n",
    "In the manuscript, we write that the example above is executed with the `tail` parameter set to `True`, while the example is executed above with `tail` set to `False`. Below the suggested code for `tail` set to `True`."
   ]
  },
  {
   "cell_type": "code",
   "execution_count": null,
   "metadata": {},
   "outputs": [],
   "source": [
    "from gemact import gemdata\n",
    "ip = gemdata.incremental_payments_sim\n",
    "pnb = gemdata.payments_number_sim\n",
    "cp = gemdata.cased_payments_sim\n",
    "opn = gemdata.open_number_sim\n",
    "reported = gemdata.reported_claims_sim\n",
    "czj = gemdata.czj_sim\n",
    "claims_inflation = np.ones(ip.shape[0])\n",
    "\n",
    "from gemact.lossreserve import AggregateData, ReservingModel\n",
    "ad = AggregateData(\n",
    "    incremental_payments=ip,\n",
    "    cased_payments=cp,\n",
    "    open_claims_number=opn,\n",
    "    reported_claims=reported,\n",
    "    payments_number=pnb\n",
    "    )\n",
    "\n",
    "resmodel = ReservingModel(\n",
    "    tail=True,\n",
    "    reserving_method='fisher_lange',\n",
    "    claims_inflation=claims_inflation\n",
    "    )\n",
    "\n",
    "from gemact.lossreserve import LossReserve\n",
    "lossreserve = LossReserve(data=ad, reservingmodel=resmodel)"
   ]
  }
 ],
 "metadata": {
  "kernelspec": {
   "display_name": "Python 3",
   "language": "python",
   "name": "python3"
  },
  "language_info": {
   "codemirror_mode": {
    "name": "ipython",
    "version": 3
   },
   "file_extension": ".py",
   "mimetype": "text/x-python",
   "name": "python",
   "nbconvert_exporter": "python",
   "pygments_lexer": "ipython3",
   "version": "3.10.13"
  }
 },
 "nbformat": 4,
 "nbformat_minor": 2
}
