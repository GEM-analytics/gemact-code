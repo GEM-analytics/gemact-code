{
 "cells": [
  {
   "cell_type": "markdown",
   "metadata": {},
   "source": [
    "# Supplementary material on Section 5\n",
    "\n",
    "This code block allows to replicate Section 5.2.1 Comparison with the chain-ladder of the [manuscript](https://arxiv.org/abs/2303.01129) describing the usage and the design of the GEMAct package.\n",
    "\n",
    "This vignette is relative to the version 1.2.1 of the GEMAct software."
   ]
  },
  {
   "cell_type": "markdown",
   "metadata": {},
   "source": [
    "pip install gemact==1.2.1"
   ]
  },
  {
   "cell_type": "markdown",
   "metadata": {},
   "source": [
    "Below we load the data: the data is simulated using the R code available on [our website](https://gem-analytics.github.io/gemact/gemdata.html)."
   ]
  },
  {
   "cell_type": "code",
   "execution_count": null,
   "metadata": {
    "vscode": {
     "languageId": "plaintext"
    }
   },
   "outputs": [],
   "source": [
    "from gemact import gemdata\n",
    "from gemact import AggregateData, ReservingModel, LossReserve\n",
    "import numpy as np\n",
    "\n",
    "\n",
    "ip = gemdata.incremental_payments_sim\n",
    "pnb = gemdata.payments_number_sim\n",
    "cp = gemdata.cased_payments_sim\n",
    "opn = gemdata.open_number_sim\n",
    "reported = gemdata.reported_claims_sim\n",
    "czj = gemdata.czj_sim"
   ]
  },
  {
   "cell_type": "code",
   "execution_count": null,
   "metadata": {
    "vscode": {
     "languageId": "plaintext"
    }
   },
   "outputs": [],
   "source": [
    "ad = AggregateData(\n",
    "    incremental_payments=ip,\n",
    "    cased_payments=cp,\n",
    "    open_claims_number=opn,\n",
    "    reported_claims=reported,\n",
    "    payments_number=pnb)\n",
    "\n",
    "resmodel_crm = ReservingModel(\n",
    "    tail=False,\n",
    "    reserving_method='crm',\n",
    "    claims_inflation=np.array([1]),\n",
    "    mixing_fq_par=.01,\n",
    "    mixing_sev_par=.01,\n",
    "    czj= czj)\n",
    "\n",
    "lr = LossReserve(\n",
    "    data=ad,\n",
    "    reservingmodel=resmodel_crm,\n",
    "    ntr_sim=1000,\n",
    "    random_state=42)\n",
    "\n",
    "lr.reserve\n",
    "lr.ppf(q=np.array([.25,.5,.75,.995,.9995]))/10**6\n",
    "\n",
    "# Table 5: Reserves by accident period for the CRMR. Amounts are reported in millions\n",
    "\n",
    "outputtxt=[]\n",
    "txt = [' Accident Period & CRMR reserve & CRMR msep \\\\\\\\']\n",
    "outputtxt.append(' '.join(txt))\n",
    "\n",
    "ap = np.arange(0, 9)\n",
    "\n",
    "for i in range(0, 9):\n",
    "    txt = [\n",
    "        str(ap[i]) + '& ',\n",
    "        \"{:.2f}\".format(np.round(lr.crm_reserve_ay[i]/10**6,2)),\n",
    "        '& ', \"{:.2f}\".format(np.round(lr.crm_sep_ay[i]/10**6, 2)),\n",
    "        '\\\\\\\\'\n",
    "    ]\n",
    "    outputtxt.append(' '.join(txt))\n",
    "\n",
    "txt = [\n",
    "        'Total' + '& ',\n",
    "        \"{:.2f}\".format(np.round(lr.reserve/10**6,2)),\n",
    "        '& ', \"{:.2f}\".format(np.round(lr.m_sep/10**6, 2)),\n",
    "        '\\\\\\\\'\n",
    "    ]\n",
    "outputtxt.append(' '.join(txt))\n",
    "\n",
    "# Table 6: Total reserve estimates, their relative value, as a fraction of the actual value (8599.04),\n",
    "# and their coefficient of variations (CoV), for the CRMR and the CHL. Absolute amounts are reported in millions.\n",
    "\n",
    "outputtxt=[]\n",
    "txt = [' Reserve & Reserve/Actual & CoV \\\\\\\\']\n",
    "outputtxt.append(' '.join(txt))\n",
    "\n",
    "txt = [\n",
    "        'CRMR' + '& ',\n",
    "        \"{:.2f}\".format(np.round(lr.reserve/np.sum(ip[lr.data.ix > lr.data.j]),2)),\n",
    "        '& ', \"{:.2f}\".format(np.round(100*lr.m_sep/lr.reserve, 2)),\n",
    "        '\\\\\\\\'\n",
    "    ]\n",
    "outputtxt.append(' '.join(txt))"
   ]
  }
 ],
 "metadata": {
  "language_info": {
   "name": "python"
  }
 },
 "nbformat": 4,
 "nbformat_minor": 2
}
